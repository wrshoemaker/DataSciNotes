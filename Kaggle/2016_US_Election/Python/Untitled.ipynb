{
 "cells": [
  {
   "cell_type": "markdown",
   "metadata": {},
   "source": [
    "**Goal: find what demographics predict each candidate**"
   ]
  },
  {
   "cell_type": "code",
   "execution_count": 2,
   "metadata": {
    "collapsed": true
   },
   "outputs": [],
   "source": [
    "%matplotlib inline \n",
    "\n",
    "import numpy as np\n",
    "import pandas as pd\n",
    "import scipy.stats as stats\n",
    "import matplotlib.pyplot as plt\n",
    "import sklearn\n",
    "import statsmodels.api as sm\n",
    "import math"
   ]
  },
  {
   "cell_type": "code",
   "execution_count": 13,
   "metadata": {
    "collapsed": false
   },
   "outputs": [],
   "source": [
    "results = pd.read_csv(filepath_or_buffer= '../data/primary_results.csv')\n",
    "counties = pd.read_csv(filepath_or_buffer= '../data/county_facts.csv')\n",
    "dictionary = pd.read_csv(filepath_or_buffer= '../data/county_facts_dictionary.csv')"
   ]
  },
  {
   "cell_type": "code",
   "execution_count": 4,
   "metadata": {
    "collapsed": false
   },
   "outputs": [
    {
     "data": {
      "text/html": [
       "<div>\n",
       "<table border=\"1\" class=\"dataframe\">\n",
       "  <thead>\n",
       "    <tr style=\"text-align: right;\">\n",
       "      <th></th>\n",
       "      <th>column_name</th>\n",
       "      <th>description</th>\n",
       "    </tr>\n",
       "  </thead>\n",
       "  <tbody>\n",
       "    <tr>\n",
       "      <th>0</th>\n",
       "      <td>PST045214</td>\n",
       "      <td>Population, 2014 estimate</td>\n",
       "    </tr>\n",
       "    <tr>\n",
       "      <th>1</th>\n",
       "      <td>PST040210</td>\n",
       "      <td>Population, 2010 (April 1) estimates base</td>\n",
       "    </tr>\n",
       "    <tr>\n",
       "      <th>2</th>\n",
       "      <td>PST120214</td>\n",
       "      <td>Population, percent change - April 1, 2010 to ...</td>\n",
       "    </tr>\n",
       "    <tr>\n",
       "      <th>3</th>\n",
       "      <td>POP010210</td>\n",
       "      <td>Population, 2010</td>\n",
       "    </tr>\n",
       "    <tr>\n",
       "      <th>4</th>\n",
       "      <td>AGE135214</td>\n",
       "      <td>Persons under 5 years, percent, 2014</td>\n",
       "    </tr>\n",
       "    <tr>\n",
       "      <th>5</th>\n",
       "      <td>AGE295214</td>\n",
       "      <td>Persons under 18 years, percent, 2014</td>\n",
       "    </tr>\n",
       "    <tr>\n",
       "      <th>6</th>\n",
       "      <td>AGE775214</td>\n",
       "      <td>Persons 65 years and over, percent, 2014</td>\n",
       "    </tr>\n",
       "    <tr>\n",
       "      <th>7</th>\n",
       "      <td>SEX255214</td>\n",
       "      <td>Female persons, percent, 2014</td>\n",
       "    </tr>\n",
       "    <tr>\n",
       "      <th>8</th>\n",
       "      <td>RHI125214</td>\n",
       "      <td>White alone, percent, 2014</td>\n",
       "    </tr>\n",
       "    <tr>\n",
       "      <th>9</th>\n",
       "      <td>RHI225214</td>\n",
       "      <td>Black or African American alone, percent, 2014</td>\n",
       "    </tr>\n",
       "    <tr>\n",
       "      <th>10</th>\n",
       "      <td>RHI325214</td>\n",
       "      <td>American Indian and Alaska Native alone, perce...</td>\n",
       "    </tr>\n",
       "    <tr>\n",
       "      <th>11</th>\n",
       "      <td>RHI425214</td>\n",
       "      <td>Asian alone, percent, 2014</td>\n",
       "    </tr>\n",
       "    <tr>\n",
       "      <th>12</th>\n",
       "      <td>RHI525214</td>\n",
       "      <td>Native Hawaiian and Other Pacific Islander alo...</td>\n",
       "    </tr>\n",
       "    <tr>\n",
       "      <th>13</th>\n",
       "      <td>RHI625214</td>\n",
       "      <td>Two or More Races, percent, 2014</td>\n",
       "    </tr>\n",
       "    <tr>\n",
       "      <th>14</th>\n",
       "      <td>RHI725214</td>\n",
       "      <td>Hispanic or Latino, percent, 2014</td>\n",
       "    </tr>\n",
       "    <tr>\n",
       "      <th>15</th>\n",
       "      <td>RHI825214</td>\n",
       "      <td>White alone, not Hispanic or Latino, percent, ...</td>\n",
       "    </tr>\n",
       "    <tr>\n",
       "      <th>16</th>\n",
       "      <td>POP715213</td>\n",
       "      <td>Living in same house 1 year &amp; over, percent, 2...</td>\n",
       "    </tr>\n",
       "    <tr>\n",
       "      <th>17</th>\n",
       "      <td>POP645213</td>\n",
       "      <td>Foreign born persons, percent, 2009-2013</td>\n",
       "    </tr>\n",
       "    <tr>\n",
       "      <th>18</th>\n",
       "      <td>POP815213</td>\n",
       "      <td>Language other than English spoken at home, pc...</td>\n",
       "    </tr>\n",
       "    <tr>\n",
       "      <th>19</th>\n",
       "      <td>EDU635213</td>\n",
       "      <td>High school graduate or higher, percent of per...</td>\n",
       "    </tr>\n",
       "    <tr>\n",
       "      <th>20</th>\n",
       "      <td>EDU685213</td>\n",
       "      <td>Bachelor's degree or higher, percent of person...</td>\n",
       "    </tr>\n",
       "    <tr>\n",
       "      <th>21</th>\n",
       "      <td>VET605213</td>\n",
       "      <td>Veterans, 2009-2013</td>\n",
       "    </tr>\n",
       "    <tr>\n",
       "      <th>22</th>\n",
       "      <td>LFE305213</td>\n",
       "      <td>Mean travel time to work (minutes), workers ag...</td>\n",
       "    </tr>\n",
       "    <tr>\n",
       "      <th>23</th>\n",
       "      <td>HSG010214</td>\n",
       "      <td>Housing units, 2014</td>\n",
       "    </tr>\n",
       "    <tr>\n",
       "      <th>24</th>\n",
       "      <td>HSG445213</td>\n",
       "      <td>Homeownership rate, 2009-2013</td>\n",
       "    </tr>\n",
       "    <tr>\n",
       "      <th>25</th>\n",
       "      <td>HSG096213</td>\n",
       "      <td>Housing units in multi-unit structures, percen...</td>\n",
       "    </tr>\n",
       "    <tr>\n",
       "      <th>26</th>\n",
       "      <td>HSG495213</td>\n",
       "      <td>Median value of owner-occupied housing units, ...</td>\n",
       "    </tr>\n",
       "    <tr>\n",
       "      <th>27</th>\n",
       "      <td>HSD410213</td>\n",
       "      <td>Households, 2009-2013</td>\n",
       "    </tr>\n",
       "    <tr>\n",
       "      <th>28</th>\n",
       "      <td>HSD310213</td>\n",
       "      <td>Persons per household, 2009-2013</td>\n",
       "    </tr>\n",
       "    <tr>\n",
       "      <th>29</th>\n",
       "      <td>INC910213</td>\n",
       "      <td>Per capita money income in past 12 months (201...</td>\n",
       "    </tr>\n",
       "    <tr>\n",
       "      <th>30</th>\n",
       "      <td>INC110213</td>\n",
       "      <td>Median household income, 2009-2013</td>\n",
       "    </tr>\n",
       "    <tr>\n",
       "      <th>31</th>\n",
       "      <td>PVY020213</td>\n",
       "      <td>Persons below poverty level, percent, 2009-2013</td>\n",
       "    </tr>\n",
       "    <tr>\n",
       "      <th>32</th>\n",
       "      <td>BZA010213</td>\n",
       "      <td>Private nonfarm establishments, 2013</td>\n",
       "    </tr>\n",
       "    <tr>\n",
       "      <th>33</th>\n",
       "      <td>BZA110213</td>\n",
       "      <td>Private nonfarm employment,  2013</td>\n",
       "    </tr>\n",
       "    <tr>\n",
       "      <th>34</th>\n",
       "      <td>BZA115213</td>\n",
       "      <td>Private nonfarm employment, percent change, 20...</td>\n",
       "    </tr>\n",
       "    <tr>\n",
       "      <th>35</th>\n",
       "      <td>NES010213</td>\n",
       "      <td>Nonemployer establishments, 2013</td>\n",
       "    </tr>\n",
       "    <tr>\n",
       "      <th>36</th>\n",
       "      <td>SBO001207</td>\n",
       "      <td>Total number of firms, 2007</td>\n",
       "    </tr>\n",
       "    <tr>\n",
       "      <th>37</th>\n",
       "      <td>SBO315207</td>\n",
       "      <td>Black-owned firms, percent, 2007</td>\n",
       "    </tr>\n",
       "    <tr>\n",
       "      <th>38</th>\n",
       "      <td>SBO115207</td>\n",
       "      <td>American Indian- and Alaska Native-owned firms...</td>\n",
       "    </tr>\n",
       "    <tr>\n",
       "      <th>39</th>\n",
       "      <td>SBO215207</td>\n",
       "      <td>Asian-owned firms, percent, 2007</td>\n",
       "    </tr>\n",
       "    <tr>\n",
       "      <th>40</th>\n",
       "      <td>SBO515207</td>\n",
       "      <td>Native Hawaiian- and Other Pacific Islander-ow...</td>\n",
       "    </tr>\n",
       "    <tr>\n",
       "      <th>41</th>\n",
       "      <td>SBO415207</td>\n",
       "      <td>Hispanic-owned firms, percent, 2007</td>\n",
       "    </tr>\n",
       "    <tr>\n",
       "      <th>42</th>\n",
       "      <td>SBO015207</td>\n",
       "      <td>Women-owned firms, percent, 2007</td>\n",
       "    </tr>\n",
       "    <tr>\n",
       "      <th>43</th>\n",
       "      <td>MAN450207</td>\n",
       "      <td>Manufacturers shipments, 2007 ($1,000)</td>\n",
       "    </tr>\n",
       "    <tr>\n",
       "      <th>44</th>\n",
       "      <td>WTN220207</td>\n",
       "      <td>Merchant wholesaler sales, 2007 ($1,000)</td>\n",
       "    </tr>\n",
       "    <tr>\n",
       "      <th>45</th>\n",
       "      <td>RTN130207</td>\n",
       "      <td>Retail sales, 2007 ($1,000)</td>\n",
       "    </tr>\n",
       "    <tr>\n",
       "      <th>46</th>\n",
       "      <td>RTN131207</td>\n",
       "      <td>Retail sales per capita, 2007</td>\n",
       "    </tr>\n",
       "    <tr>\n",
       "      <th>47</th>\n",
       "      <td>AFN120207</td>\n",
       "      <td>Accommodation and food services sales, 2007 ($...</td>\n",
       "    </tr>\n",
       "    <tr>\n",
       "      <th>48</th>\n",
       "      <td>BPS030214</td>\n",
       "      <td>Building permits, 2014</td>\n",
       "    </tr>\n",
       "    <tr>\n",
       "      <th>49</th>\n",
       "      <td>LND110210</td>\n",
       "      <td>Land area in square miles, 2010</td>\n",
       "    </tr>\n",
       "    <tr>\n",
       "      <th>50</th>\n",
       "      <td>POP060210</td>\n",
       "      <td>Population per square mile, 2010</td>\n",
       "    </tr>\n",
       "  </tbody>\n",
       "</table>\n",
       "</div>"
      ],
      "text/plain": [
       "   column_name                                        description\n",
       "0    PST045214                          Population, 2014 estimate\n",
       "1    PST040210          Population, 2010 (April 1) estimates base\n",
       "2    PST120214  Population, percent change - April 1, 2010 to ...\n",
       "3    POP010210                                   Population, 2010\n",
       "4    AGE135214               Persons under 5 years, percent, 2014\n",
       "5    AGE295214              Persons under 18 years, percent, 2014\n",
       "6    AGE775214           Persons 65 years and over, percent, 2014\n",
       "7    SEX255214                      Female persons, percent, 2014\n",
       "8    RHI125214                         White alone, percent, 2014\n",
       "9    RHI225214     Black or African American alone, percent, 2014\n",
       "10   RHI325214  American Indian and Alaska Native alone, perce...\n",
       "11   RHI425214                         Asian alone, percent, 2014\n",
       "12   RHI525214  Native Hawaiian and Other Pacific Islander alo...\n",
       "13   RHI625214                   Two or More Races, percent, 2014\n",
       "14   RHI725214                  Hispanic or Latino, percent, 2014\n",
       "15   RHI825214  White alone, not Hispanic or Latino, percent, ...\n",
       "16   POP715213  Living in same house 1 year & over, percent, 2...\n",
       "17   POP645213           Foreign born persons, percent, 2009-2013\n",
       "18   POP815213  Language other than English spoken at home, pc...\n",
       "19   EDU635213  High school graduate or higher, percent of per...\n",
       "20   EDU685213  Bachelor's degree or higher, percent of person...\n",
       "21   VET605213                                Veterans, 2009-2013\n",
       "22   LFE305213  Mean travel time to work (minutes), workers ag...\n",
       "23   HSG010214                                Housing units, 2014\n",
       "24   HSG445213                      Homeownership rate, 2009-2013\n",
       "25   HSG096213  Housing units in multi-unit structures, percen...\n",
       "26   HSG495213  Median value of owner-occupied housing units, ...\n",
       "27   HSD410213                              Households, 2009-2013\n",
       "28   HSD310213                   Persons per household, 2009-2013\n",
       "29   INC910213  Per capita money income in past 12 months (201...\n",
       "30   INC110213                 Median household income, 2009-2013\n",
       "31   PVY020213    Persons below poverty level, percent, 2009-2013\n",
       "32   BZA010213               Private nonfarm establishments, 2013\n",
       "33   BZA110213                  Private nonfarm employment,  2013\n",
       "34   BZA115213  Private nonfarm employment, percent change, 20...\n",
       "35   NES010213                   Nonemployer establishments, 2013\n",
       "36   SBO001207                        Total number of firms, 2007\n",
       "37   SBO315207                   Black-owned firms, percent, 2007\n",
       "38   SBO115207  American Indian- and Alaska Native-owned firms...\n",
       "39   SBO215207                   Asian-owned firms, percent, 2007\n",
       "40   SBO515207  Native Hawaiian- and Other Pacific Islander-ow...\n",
       "41   SBO415207                Hispanic-owned firms, percent, 2007\n",
       "42   SBO015207                   Women-owned firms, percent, 2007\n",
       "43   MAN450207             Manufacturers shipments, 2007 ($1,000)\n",
       "44   WTN220207           Merchant wholesaler sales, 2007 ($1,000)\n",
       "45   RTN130207                        Retail sales, 2007 ($1,000)\n",
       "46   RTN131207                      Retail sales per capita, 2007\n",
       "47   AFN120207  Accommodation and food services sales, 2007 ($...\n",
       "48   BPS030214                             Building permits, 2014\n",
       "49   LND110210                    Land area in square miles, 2010\n",
       "50   POP060210                   Population per square mile, 2010"
      ]
     },
     "execution_count": 4,
     "metadata": {},
     "output_type": "execute_result"
    }
   ],
   "source": [
    "dictionary"
   ]
  },
  {
   "cell_type": "markdown",
   "metadata": {},
   "source": [
    "What's the deomgraphy of Clinton's counties?"
   ]
  },
  {
   "cell_type": "code",
   "execution_count": 44,
   "metadata": {
    "collapsed": false
   },
   "outputs": [],
   "source": [
    "#### get Clinton's wins\n",
    "results_Clinton = results[results['candidate'] == 'Hillary Clinton']\n",
    "test = [s + ' County' for s in results_Clinton['county'].tolist()]\n",
    "counties_Clinton = counties[counties['area_name'].isin(test)]"
   ]
  },
  {
   "cell_type": "code",
   "execution_count": 45,
   "metadata": {
    "collapsed": false
   },
   "outputs": [
    {
     "data": {
      "text/plain": [
       "array([[<matplotlib.axes._subplots.AxesSubplot object at 0x1096bd5d0>]], dtype=object)"
      ]
     },
     "execution_count": 45,
     "metadata": {},
     "output_type": "execute_result"
    },
    {
     "data": {
      "image/png": "[encoded data removed]",
      "text/plain": [
       "<matplotlib.figure.Figure at 0x10e5e5dd0>"
      ]
     },
     "metadata": {},
     "output_type": "display_data"
    }
   ],
   "source": [
    "# look at the distribution of the population sizes\n",
    "pd.DataFrame.hist(counties_Clinton, column = 'POP060210')\n"
   ]
  },
  {
   "cell_type": "code",
   "execution_count": 51,
   "metadata": {
    "collapsed": false
   },
   "outputs": [
    {
     "name": "stderr",
     "output_type": "stream",
     "text": [
      "/Users/WRShoemaker/anaconda/lib/python2.7/site-packages/ipykernel/__main__.py:4: SettingWithCopyWarning: \n",
      "A value is trying to be set on a copy of a slice from a DataFrame.\n",
      "Try using .loc[row_indexer,col_indexer] = value instead\n",
      "\n",
      "See the the caveats in the documentation: http://pandas.pydata.org/pandas-docs/stable/indexing.html#indexing-view-versus-copy\n"
     ]
    }
   ],
   "source": [
    "# log transform columns that likely differ by order of magnitutde among counties (pop, ares)\n",
    "to_transform = ['PST045214', 'PST040210', 'POP010210', 'VET605213', 'HSG010214', 'HSD410213',\\\n",
    "               'BZA010213', 'BZA110213', 'BZA110213', 'BZA110213', 'NES010213', 'SBO001207', \\\n",
    "               'SBO001207', 'MAN450207', 'WTN220207', 'RTN130207', 'RTN130207', 'RTN131207', \\\n",
    "               'AFN120207', 'BPS030214', 'LND110210', 'POP060210']\n",
    "for x in to_transform:\n",
    "    counties_Clinton[x] = np.log(counties_Clinton[x])\n"
   ]
  },
  {
   "cell_type": "code",
   "execution_count": 50,
   "metadata": {
    "collapsed": false
   },
   "outputs": [
    {
     "data": {
      "text/plain": [
       "array([[<matplotlib.axes._subplots.AxesSubplot object at 0x10f34bcd0>]], dtype=object)"
      ]
     },
     "execution_count": 50,
     "metadata": {},
     "output_type": "execute_result"
    },
    {
     "data": {
      "image/png": "[encoded data removed]",
      "text/plain": [
       "<matplotlib.figure.Figure at 0x10f3618d0>"
      ]
     },
     "metadata": {},
     "output_type": "display_data"
    }
   ],
   "source": [
    "pd.DataFrame.hist(counties_Clinton, column = 'POP060210_log')\n"
   ]
  },
  {
   "cell_type": "code",
   "execution_count": null,
   "metadata": {
    "collapsed": false
   },
   "outputs": [],
   "source": []
  },
  {
   "cell_type": "code",
   "execution_count": null,
   "metadata": {
    "collapsed": true
   },
   "outputs": [],
   "source": []
  },
  {
   "cell_type": "code",
   "execution_count": null,
   "metadata": {
    "collapsed": false
   },
   "outputs": [],
   "source": [
    "counties_Clinton"
   ]
  },
  {
   "cell_type": "code",
   "execution_count": null,
   "metadata": {
    "collapsed": true
   },
   "outputs": [],
   "source": []
  }
 ],
 "metadata": {
  "kernelspec": {
   "display_name": "Python 2",
   "language": "python",
   "name": "python2"
  },
  "language_info": {
   "codemirror_mode": {
    "name": "ipython",
    "version": 2
   },
   "file_extension": ".py",
   "mimetype": "text/x-python",
   "name": "python",
   "nbconvert_exporter": "python",
   "pygments_lexer": "ipython2",
   "version": "2.7.11"
  }
 },
 "nbformat": 4,
 "nbformat_minor": 0
}
